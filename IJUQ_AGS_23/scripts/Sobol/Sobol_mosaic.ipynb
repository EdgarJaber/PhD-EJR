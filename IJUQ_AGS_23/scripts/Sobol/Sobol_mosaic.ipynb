{
 "cells": [
  {
   "cell_type": "code",
   "execution_count": 1,
   "metadata": {},
   "outputs": [],
   "source": [
    "import openturns as ot\n",
    "import openturns.viewer as otv\n",
    "import salib\n",
    "import treemap as tm\n",
    "import pickle\n",
    "import matplotlib.pyplot as plt\n",
    "\n",
    "plt.rcParams['figure.dpi']= 500\n",
    "plt.rcParams['text.usetex'] = True"
   ]
  },
  {
   "cell_type": "code",
   "execution_count": 2,
   "metadata": {},
   "outputs": [],
   "source": [
    "with open(\"../../data/PCE_metamodel.pkl\", \"rb\") as f:\n",
    "    polynomialChaosResult = pickle.load(f)"
   ]
  },
  {
   "cell_type": "code",
   "execution_count": 3,
   "metadata": {},
   "outputs": [],
   "source": [
    "# %% Gather intermediate data\n",
    "inputSample = polynomialChaosResult.getInputSample()\n",
    "inputDimension = inputSample.getDimension()"
   ]
  },
  {
   "cell_type": "code",
   "execution_count": 4,
   "metadata": {},
   "outputs": [],
   "source": [
    "# Get input description\n",
    "inputDistribution = polynomialChaosResult.getDistribution()\n",
    "inputDescription = inputDistribution.getDescription()"
   ]
  },
  {
   "cell_type": "code",
   "execution_count": 5,
   "metadata": {},
   "outputs": [],
   "source": [
    "# %%\n",
    "chaosSI = ot.FunctionalChaosSobolIndices(polynomialChaosResult)"
   ]
  },
  {
   "cell_type": "code",
   "execution_count": 6,
   "metadata": {},
   "outputs": [
    {
     "name": "stdout",
     "output_type": "stream",
     "text": [
      "Before threshold:\n",
      "Number of groups = 18, number of interaction indices = 18\n"
     ]
    }
   ],
   "source": [
    "# %%\n",
    "group_list, interaction_sobol_group_list = salib.ComputeAllSobolInteractionIndices(polynomialChaosResult)\n",
    "print(\"Before threshold:\")\n",
    "print(f\"Number of groups = {len(group_list)}, \"\n",
    "      f\"number of interaction indices = {len(interaction_sobol_group_list)}\")"
   ]
  },
  {
   "cell_type": "code",
   "execution_count": 7,
   "metadata": {},
   "outputs": [],
   "source": [
    "def CreateMosaicPlot(polynomialChaosResult, marginalIndex = 0, maximumNumberOfColumns = 4, \n",
    "                     sensitivity_threshold = 0.005, verbose = False):\n",
    "    group_list, interaction_sobol_group_list = salib.ComputeAllSobolInteractionIndices(polynomialChaosResult, marginalIndex)\n",
    "    if verbose:\n",
    "        print(\"Before threshold:\")\n",
    "        print(f\"Number of groups = {len(group_list)}, \"\n",
    "            f\"number of interaction indices = {len(interaction_sobol_group_list)}\")\n",
    "\n",
    "    # Set a threshold on the interaction indice\n",
    "    if verbose:\n",
    "        print(f\"Number of groups before threshold = {len(group_list)}\")\n",
    "    \n",
    "    if verbose:\n",
    "        print(\"Threshold = \", sensitivity_threshold)\n",
    "    interaction_sensitivity_threshold_list = []\n",
    "    groups_threshold_list = []\n",
    "    for i in range(len(group_list)):\n",
    "        group = group_list[i]\n",
    "        value = interaction_sobol_group_list[i]\n",
    "        if verbose:\n",
    "            print(\"group = \", group, \" : \", value)\n",
    "        if value > sensitivity_threshold:\n",
    "            groups_threshold_list.append(group)\n",
    "            interaction_sensitivity_threshold_list.append(value)\n",
    "\n",
    "    if verbose:\n",
    "        print(\"After threshold:\")\n",
    "        print(f\"Number of groups = {len(groups_threshold_list)}, \"\n",
    "            f\"number of interaction indices = {len(interaction_sensitivity_threshold_list)}\")\n",
    "\n",
    "    # Compute labels\n",
    "    group_labels_with_description = salib.ComputeGroupLabelsFromLabelNames(\n",
    "        inputDescription, groups_threshold_list\n",
    "    )\n",
    "    if verbose:\n",
    "        print(f\"Group labels (nb. = {len(group_labels_with_description)}) = {group_labels_with_description}\")\n",
    "\n",
    "    # Add a Joker index representing ignored values\n",
    "    interaction_sensitivity_remainder = 1.0 - sum(interaction_sensitivity_threshold_list)\n",
    "    if verbose:\n",
    "        print(f\"Remainder = {interaction_sensitivity_remainder:.4f}\")\n",
    "    interaction_sensitivity_threshold_list.append(interaction_sensitivity_remainder)\n",
    "    group_labels_with_description.append(\"*\")\n",
    "\n",
    "    if verbose:\n",
    "        print(\"After threshold:\")\n",
    "        print(f\"Number of groups = {len(group_labels_with_description)}, \"\n",
    "            f\"number of interaction indices = {len(interaction_sensitivity_threshold_list)}\")\n",
    "\n",
    "\n",
    "    # Plot treemap\n",
    "    treemap = tm.TreeMap(\n",
    "        interaction_sensitivity_threshold_list,\n",
    "        group_labels_with_description,\n",
    "        sum_threshold=interaction_sensitivity_remainder,\n",
    "        text_size=0.85\n",
    "    )\n",
    "    \n",
    "    best_items_by_column = treemap.searchForBestNumberOfItemsByLine(maximumNumberOfColumns)\n",
    "    graph = treemap.columnwise(best_items_by_column)\n",
    "    graph.setTitle(\n",
    "        \"Output index = %d, dim. = %d, remainder = %.4f\" % (marginalIndex, inputDimension, interaction_sensitivity_remainder)\n",
    "    )\n",
    "    return graph\n"
   ]
  },
  {
   "cell_type": "code",
   "execution_count": 16,
   "metadata": {},
   "outputs": [
    {
     "name": "stdout",
     "output_type": "stream",
     "text": [
      "Text(name=Unnamed, color=blue, fill=solid, line=solid, point=plus, width=1, data=\n",
      "0 : [ 0.216793 0.5      ]\n",
      "Text(name=Unnamed, color=blue, fill=solid, line=solid, point=plus, width=1, data=\n",
      "0 : [ 0.565429 0.5      ]\n",
      "Text(name=Unnamed, color=blue, fill=solid, line=solid, point=plus, width=1, data=\n",
      "0 : [ 0.79834 0.5     ]\n",
      "Text(name=Unnamed, color=blue, fill=solid, line=solid, point=plus, width=1, data=\n",
      "0 : [ 0.949704 0.253884 ]\n",
      "Text(name=Unnamed, color=blue, fill=solid, line=solid, point=plus, width=1, data=\n",
      "0 : [ 0.949704 0.602373 ]\n",
      "Text(name=Unnamed, color=blue, fill=solid, line=solid, point=plus, width=1, data=\n",
      "0 : [ 0.949704 0.766562 ]\n",
      "Text(name=Unnamed, color=blue, fill=solid, line=solid, point=plus, width=1, data=\n",
      "0 : [ 0.949704 0.884754 ]\n",
      "Text(name=Unnamed, color=blue, fill=solid, line=solid, point=plus, width=1, data=\n",
      "0 : [ 0.949704 0.966681 ]\n",
      "Text(name=Unnamed, color=blue, fill=solid, line=solid, point=plus, width=1, data=\n",
      "0 : [ 0.202534 0.5      ]\n",
      "Text(name=Unnamed, color=blue, fill=solid, line=solid, point=plus, width=1, data=\n",
      "0 : [ 0.539295 0.5      ]\n",
      "Text(name=Unnamed, color=blue, fill=solid, line=solid, point=plus, width=1, data=\n",
      "0 : [ 0.779838 0.5      ]\n",
      "Text(name=Unnamed, color=blue, fill=solid, line=solid, point=plus, width=1, data=\n",
      "0 : [ 0.943077 0.218811 ]\n",
      "Text(name=Unnamed, color=blue, fill=solid, line=solid, point=plus, width=1, data=\n",
      "0 : [ 0.943077 0.524483 ]\n",
      "Text(name=Unnamed, color=blue, fill=solid, line=solid, point=plus, width=1, data=\n",
      "0 : [ 0.943077 0.67729  ]\n",
      "Text(name=Unnamed, color=blue, fill=solid, line=solid, point=plus, width=1, data=\n",
      "0 : [ 0.943077 0.804153 ]\n",
      "Text(name=Unnamed, color=blue, fill=solid, line=solid, point=plus, width=1, data=\n",
      "0 : [ 0.943077 0.901955 ]\n",
      "Text(name=Unnamed, color=blue, fill=solid, line=solid, point=plus, width=1, data=\n",
      "0 : [ 0.943077 0.969422 ]\n",
      "Text(name=Unnamed, color=blue, fill=solid, line=solid, point=plus, width=1, data=\n",
      "0 : [ 0.195787 0.5      ]\n",
      "Text(name=Unnamed, color=blue, fill=solid, line=solid, point=plus, width=1, data=\n",
      "0 : [ 0.5368 0.5    ]\n",
      "Text(name=Unnamed, color=blue, fill=solid, line=solid, point=plus, width=1, data=\n",
      "0 : [ 0.772582 0.5      ]\n",
      "Text(name=Unnamed, color=blue, fill=solid, line=solid, point=plus, width=1, data=\n",
      "0 : [ 0.931569 0.362418 ]\n",
      "Text(name=Unnamed, color=blue, fill=solid, line=solid, point=plus, width=1, data=\n",
      "0 : [ 0.931569 0.801689 ]\n",
      "Text(name=Unnamed, color=blue, fill=solid, line=solid, point=plus, width=1, data=\n",
      "0 : [ 0.931569 0.903975 ]\n",
      "Text(name=Unnamed, color=blue, fill=solid, line=solid, point=plus, width=1, data=\n",
      "0 : [ 0.931569 0.954815 ]\n",
      "Text(name=Unnamed, color=blue, fill=solid, line=solid, point=plus, width=1, data=\n",
      "0 : [ 0.931569 0.990112 ]\n"
     ]
    }
   ],
   "source": [
    "# %%\n",
    "plotSelection = True\n",
    "if plotSelection:\n",
    "    marginalOutputIndexList = [15, 33, 59]\n",
    "else:\n",
    "    outputSample = polynomialChaosResult.getOutputSample()\n",
    "    outputDimension = outputSample.getDimension()\n",
    "    marginalOutputIndexList = list(range(outputDimension))\n",
    "\n",
    "for marginalIndex in marginalOutputIndexList:\n",
    "    graph = CreateMosaicPlot(polynomialChaosResult, marginalIndex)\n",
    "    a = graph.getDrawables()\n",
    "    for el in a:\n",
    "    #view = otv.View(graph, square_axes=True, figure_kw={\"figsize\": (7.0, 7.0)})\n",
    "    #plt.subplots_adjust(top = 0.95)\n",
    "    #figure = view.getFigure()\n",
    "    #base_filename = \"plot_sensitivity_mosaique_thycgv_%d\" % (marginalIndex)\n",
    "    #figure.savefig(base_filename + \".pdf\", bbox_inches=\"tight\")\n",
    "    #figure.savefig(base_filename + \".png\", bbox_inches=\"tight\", dpi=90)\n",
    "\n",
    "# %%"
   ]
  },
  {
   "cell_type": "code",
   "execution_count": 18,
   "metadata": {},
   "outputs": [
    {
     "data": {
      "text/plain": [
       "16"
      ]
     },
     "execution_count": 18,
     "metadata": {},
     "output_type": "execute_result"
    }
   ],
   "source": [
    "len(a)"
   ]
  },
  {
   "cell_type": "code",
   "execution_count": null,
   "metadata": {},
   "outputs": [],
   "source": []
  }
 ],
 "metadata": {
  "kernelspec": {
   "display_name": "IJUQ_AGS_23",
   "language": "python",
   "name": "python3"
  },
  "language_info": {
   "codemirror_mode": {
    "name": "ipython",
    "version": 3
   },
   "file_extension": ".py",
   "mimetype": "text/x-python",
   "name": "python",
   "nbconvert_exporter": "python",
   "pygments_lexer": "ipython3",
   "version": "3.11.4"
  },
  "orig_nbformat": 4
 },
 "nbformat": 4,
 "nbformat_minor": 2
}
